{
 "cells": [
  {
   "cell_type": "code",
   "execution_count": 1,
   "metadata": {},
   "outputs": [],
   "source": [
    "import pandas as pd\n",
    "import sys\n",
    "from IPython.display import clear_output\n",
    "\n",
    "\n",
    "def load_large_dta(fname):\n",
    "    reader = pd.read_stata(fname, iterator=True, convert_categoricals=False)\n",
    "    df = pd.DataFrame()\n",
    "\n",
    "    try:\n",
    "        chunk = reader.get_chunk(100 * 1000)\n",
    "        while len(chunk) > 0:\n",
    "            df = df.append(chunk, ignore_index=True)\n",
    "            chunk = reader.get_chunk(100 * 1000)\n",
    "            print(\".\")\n",
    "            sys.stdout.flush()\n",
    "    except (StopIteration, KeyboardInterrupt):\n",
    "        pass\n",
    "\n",
    "    # 处理重复标签问题\n",
    "    for col in df.select_dtypes(include=\"category\").columns:\n",
    "        df[col] = df[col].astype(\"category\").remove_unused_categories()\n",
    "\n",
    "    print(\"\\nloaded {} rows\".format(len(df)))\n",
    "\n",
    "    return df\n"
   ]
  },
  {
   "cell_type": "code",
   "execution_count": 2,
   "metadata": {
    "collapsed": false
   },
   "outputs": [
    {
     "name": "stderr",
     "output_type": "stream",
     "text": [
      "C:\\Users\\Lenovo\\AppData\\Local\\Temp\\ipykernel_17860\\365567062.py:13: FutureWarning: The frame.append method is deprecated and will be removed from pandas in a future version. Use pandas.concat instead.\n",
      "  df = df.append(chunk, ignore_index=True)\n"
     ]
    },
    {
     "name": "stdout",
     "output_type": "stream",
     "text": [
      "\n",
      "loaded 5894 rows\n"
     ]
    }
   ],
   "source": [
    "df_2003_df = \"D:\\\\The-Trends-of-Social-Changes-in-China\\data\\\\source_data\\\\cgss2003.dta\"\n",
    "df_2003 = load_large_dta(df_2003_df)\n",
    "df_2003.to_csv(\"D:\\\\The-Trends-of-Social-Changes-in-China\\\\cgss2003.csv\")"
   ]
  },
  {
   "cell_type": "code",
   "execution_count": 3,
   "metadata": {},
   "outputs": [
    {
     "name": "stderr",
     "output_type": "stream",
     "text": [
      "C:\\Users\\Lenovo\\AppData\\Local\\Temp\\ipykernel_17860\\365567062.py:13: FutureWarning: The frame.append method is deprecated and will be removed from pandas in a future version. Use pandas.concat instead.\n",
      "  df = df.append(chunk, ignore_index=True)\n"
     ]
    },
    {
     "name": "stdout",
     "output_type": "stream",
     "text": [
      "\n",
      "loaded 10372 rows\n"
     ]
    }
   ],
   "source": [
    "df_2005_df = \"D:\\\\The-Trends-of-Social-Changes-in-China\\\\data\\\\source_data\\\\cgss2005.dta\"\n",
    "df_2005 = load_large_dta(df_2005_df)\n",
    "df_2005.to_csv(\n",
    "    \"D:\\\\The-Trends-of-Social-Changes-in-China\\\\data\\\\cleaned_data\\\\cgss2005.csv\"\n",
    ")"
   ]
  },
  {
   "cell_type": "code",
   "execution_count": 14,
   "metadata": {},
   "outputs": [
    {
     "name": "stderr",
     "output_type": "stream",
     "text": [
      "C:\\Users\\Lenovo\\AppData\\Local\\Temp\\ipykernel_19892\\4122828458.py:13: FutureWarning: The frame.append method is deprecated and will be removed from pandas in a future version. Use pandas.concat instead.\n",
      "  df = df.append(chunk, ignore_index=True)\n"
     ]
    },
    {
     "name": "stdout",
     "output_type": "stream",
     "text": [
      "\n",
      "loaded 6000 rows\n"
     ]
    }
   ],
   "source": [
    "df_2008_df = \"D:\\\\The-Trends-of-Social-Changes-in-China\\\\cgss2008.dta\"\n",
    "df_2008 = load_large_dta(df_2008_df)\n",
    "df_2008.to_csv(\"D:\\\\The-Trends-of-Social-Changes-in-China\\\\cgss2008.csv\")"
   ]
  },
  {
   "cell_type": "code",
   "execution_count": 4,
   "metadata": {},
   "outputs": [
    {
     "name": "stderr",
     "output_type": "stream",
     "text": [
      "C:\\Users\\Lenovo\\AppData\\Local\\Temp\\ipykernel_17860\\365567062.py:13: FutureWarning: The frame.append method is deprecated and will be removed from pandas in a future version. Use pandas.concat instead.\n",
      "  df = df.append(chunk, ignore_index=True)\n"
     ]
    },
    {
     "name": "stdout",
     "output_type": "stream",
     "text": [
      "\n",
      "loaded 11783 rows\n"
     ]
    }
   ],
   "source": [
    "df_2010_df = (\n",
    "    \"D:\\\\The-Trends-of-Social-Changes-in-China\\\\data\\\\source_data\\\\cgss2010.dta\"\n",
    ")\n",
    "df_2010 = load_large_dta(df_2010_df)\n",
    "df_2010.to_csv(\n",
    "    \"D:\\\\The-Trends-of-Social-Changes-in-China\\\\data\\\\cleaned_data\\\\cgss2010.csv\"\n",
    ")"
   ]
  },
  {
   "cell_type": "code",
   "execution_count": 5,
   "metadata": {},
   "outputs": [
    {
     "name": "stderr",
     "output_type": "stream",
     "text": [
      "C:\\Users\\Lenovo\\AppData\\Local\\Temp\\ipykernel_17860\\365567062.py:13: FutureWarning: The frame.append method is deprecated and will be removed from pandas in a future version. Use pandas.concat instead.\n",
      "  df = df.append(chunk, ignore_index=True)\n"
     ]
    },
    {
     "name": "stdout",
     "output_type": "stream",
     "text": [
      "\n",
      "loaded 5620 rows\n"
     ]
    }
   ],
   "source": [
    "df_2011_df = (\n",
    "    \"D:\\\\The-Trends-of-Social-Changes-in-China\\\\data\\\\source_data\\\\cgss2011.dta\"\n",
    ")\n",
    "df_2011 = load_large_dta(df_2011_df)\n",
    "df_2011.to_csv(\n",
    "    \"D:\\\\The-Trends-of-Social-Changes-in-China\\\\data\\\\cleaned_data\\\\cgss2011.csv\"\n",
    ")"
   ]
  },
  {
   "cell_type": "code",
   "execution_count": 9,
   "metadata": {},
   "outputs": [
    {
     "name": "stderr",
     "output_type": "stream",
     "text": [
      "C:\\Users\\Lenovo\\AppData\\Local\\Temp\\ipykernel_17860\\365567062.py:13: FutureWarning: The frame.append method is deprecated and will be removed from pandas in a future version. Use pandas.concat instead.\n",
      "  df = df.append(chunk, ignore_index=True)\n"
     ]
    },
    {
     "name": "stdout",
     "output_type": "stream",
     "text": [
      "\n",
      "loaded 10968 rows\n"
     ]
    }
   ],
   "source": [
    "df_2015_df = (\n",
    "    \"D:\\\\The-Trends-of-Social-Changes-in-China\\\\data\\\\source_data\\\\cgss2015.dta\"\n",
    ")\n",
    "df_2015 = load_large_dta(df_2015_df)\n",
    "df_2015.to_csv(\n",
    "    \"D:\\\\The-Trends-of-Social-Changes-in-China\\\\data\\\\cleaned_data\\\\cgss2015.csv\"\n",
    ")"
   ]
  },
  {
   "cell_type": "code",
   "execution_count": 7,
   "metadata": {},
   "outputs": [
    {
     "name": "stderr",
     "output_type": "stream",
     "text": [
      "C:\\Users\\Lenovo\\AppData\\Local\\Temp\\ipykernel_17860\\365567062.py:13: FutureWarning: The frame.append method is deprecated and will be removed from pandas in a future version. Use pandas.concat instead.\n",
      "  df = df.append(chunk, ignore_index=True)\n"
     ]
    },
    {
     "name": "stdout",
     "output_type": "stream",
     "text": [
      "\n",
      "loaded 12787 rows\n"
     ]
    }
   ],
   "source": [
    "df_2018_df = (\n",
    "    \"D:\\\\The-Trends-of-Social-Changes-in-China\\\\data\\\\source_data\\\\cgss2018.dta\"\n",
    ")\n",
    "df_2018 = load_large_dta(df_2018_df)\n",
    "df_2018.to_csv(\n",
    "    \"D:\\\\The-Trends-of-Social-Changes-in-China\\\\data\\\\cleaned_data\\\\cgss2018.csv\"\n",
    ")"
   ]
  },
  {
   "cell_type": "code",
   "execution_count": 8,
   "metadata": {},
   "outputs": [
    {
     "name": "stderr",
     "output_type": "stream",
     "text": [
      "C:\\Users\\Lenovo\\AppData\\Local\\Temp\\ipykernel_17860\\365567062.py:13: FutureWarning: The frame.append method is deprecated and will be removed from pandas in a future version. Use pandas.concat instead.\n",
      "  df = df.append(chunk, ignore_index=True)\n"
     ]
    },
    {
     "name": "stdout",
     "output_type": "stream",
     "text": [
      "\n",
      "loaded 8148 rows\n"
     ]
    }
   ],
   "source": [
    "df_2021_df = (\n",
    "    \"D:\\\\The-Trends-of-Social-Changes-in-China\\\\data\\\\source_data\\\\cgss2021.dta\"\n",
    ")\n",
    "df_2021 = load_large_dta(df_2021_df)\n",
    "df_2021.to_csv(\n",
    "    \"D:\\\\The-Trends-of-Social-Changes-in-China\\\\data\\\\cleaned_data\\\\cgss2021.csv\"\n",
    ")"
   ]
  }
 ],
 "metadata": {
  "kernelspec": {
   "display_name": "base",
   "language": "python",
   "name": "python3"
  },
  "language_info": {
   "codemirror_mode": {
    "name": "ipython",
    "version": 3
   },
   "file_extension": ".py",
   "mimetype": "text/x-python",
   "name": "python",
   "nbconvert_exporter": "python",
   "pygments_lexer": "ipython3",
   "version": "3.11.4"
  }
 },
 "nbformat": 4,
 "nbformat_minor": 2
}
