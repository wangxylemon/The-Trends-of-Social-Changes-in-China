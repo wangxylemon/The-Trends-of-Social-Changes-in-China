{
 "cells": [
  {
   "cell_type": "code",
   "execution_count": 15,
   "metadata": {},
   "outputs": [],
   "source": [
    "import pandas as pd\n",
    "import sys\n",
    "from IPython.display import clear_output\n",
    "\n",
    "\n",
    "def load_large_dta(fname):\n",
    "    reader = pd.read_stata(fname, iterator=True, convert_categoricals=False)\n",
    "    df = pd.DataFrame()\n",
    "\n",
    "    try:\n",
    "        chunk = reader.get_chunk(100 * 1000)\n",
    "        while len(chunk) > 0:\n",
    "            df = df.append(chunk, ignore_index=True)\n",
    "            chunk = reader.get_chunk(100 * 1000)\n",
    "            print(\".\")\n",
    "            sys.stdout.flush()\n",
    "    except (StopIteration, KeyboardInterrupt):\n",
    "        pass\n",
    "\n",
    "    # 处理重复标签问题\n",
    "    for col in df.select_dtypes(include=\"category\").columns:\n",
    "        df[col] = df[col].astype(\"category\").remove_unused_categories()\n",
    "\n",
    "    print(\"\\nloaded {} rows\".format(len(df)))\n",
    "\n",
    "    return df\n",
    "\n",
    "\n"
   ]
  },
  {
   "cell_type": "code",
   "execution_count": 16,
   "metadata": {},
   "outputs": [
    {
     "name": "stderr",
     "output_type": "stream",
     "text": [
      "C:\\Users\\Lenovo\\AppData\\Local\\Temp\\ipykernel_19892\\2135620930.py:13: FutureWarning: The frame.append method is deprecated and will be removed from pandas in a future version. Use pandas.concat instead.\n",
      "  df = df.append(chunk, ignore_index=True)\n"
     ]
    },
    {
     "name": "stdout",
     "output_type": "stream",
     "text": [
      "\n",
      "loaded 5894 rows\n"
     ]
    }
   ],
   "source": [
    "df_2003_df = \"D:\\\\The-Trends-of-Social-Changes-in-China\\\\cgss2003.dta\"\n",
    "df_2003 = load_large_dta(df_2003_df)\n",
    "df_2003.to_csv(\"D:\\\\The-Trends-of-Social-Changes-in-China\\\\cgss2003.csv\")"
   ]
  },
  {
   "cell_type": "code",
   "execution_count": 14,
   "metadata": {},
   "outputs": [
    {
     "name": "stderr",
     "output_type": "stream",
     "text": [
      "C:\\Users\\Lenovo\\AppData\\Local\\Temp\\ipykernel_19892\\4122828458.py:13: FutureWarning: The frame.append method is deprecated and will be removed from pandas in a future version. Use pandas.concat instead.\n",
      "  df = df.append(chunk, ignore_index=True)\n"
     ]
    },
    {
     "name": "stdout",
     "output_type": "stream",
     "text": [
      "\n",
      "loaded 6000 rows\n"
     ]
    }
   ],
   "source": [
    "df_2008_df = \"D:\\\\The-Trends-of-Social-Changes-in-China\\\\cgss2008.dta\"\n",
    "df_2008 = load_large_dta(df_2008_df)\n",
    "df_2008.to_csv(\"D:\\\\The-Trends-of-Social-Changes-in-China\\\\cgss2008.csv\")"
   ]
  },
  {
   "cell_type": "code",
   "execution_count": 18,
   "metadata": {},
   "outputs": [
    {
     "name": "stderr",
     "output_type": "stream",
     "text": [
      "C:\\Users\\Lenovo\\AppData\\Local\\Temp\\ipykernel_19892\\2135620930.py:13: FutureWarning: The frame.append method is deprecated and will be removed from pandas in a future version. Use pandas.concat instead.\n",
      "  df = df.append(chunk, ignore_index=True)\n"
     ]
    },
    {
     "name": "stdout",
     "output_type": "stream",
     "text": [
      "\n",
      "loaded 12787 rows\n"
     ]
    }
   ],
   "source": [
    "df_2018_df = (\n",
    "    \"D:\\\\The-Trends-of-Social-Changes-in-China\\\\data\\\\source_data\\\\CGSS2018_PUBLIC.dta\"\n",
    ")\n",
    "df_2018 = load_large_dta(df_2018_df)\n",
    "df_2018.to_csv(\n",
    "    \"D:\\\\The-Trends-of-Social-Changes-in-China\\\\data\\\\cleaned_data\\\\cgss2018.csv\"\n",
    ")"
   ]
  },
  {
   "cell_type": "code",
   "execution_count": 19,
   "metadata": {},
   "outputs": [
    {
     "name": "stderr",
     "output_type": "stream",
     "text": [
      "C:\\Users\\Lenovo\\AppData\\Local\\Temp\\ipykernel_19892\\3040656215.py:1: DtypeWarning: Columns (186,188,191,223,224,225,245,249,253,264,267,270,273,359,382,399,421,436,438,441,446,457,473,475,478,491,494,497,504,532,587,604,606,610,621,643,650,654,661,670,679,683,690,694,701,705,712,716,718,720,722,728,733,737,749,752,770,793,816,978,988,999,1009) have mixed types. Specify dtype option on import or set low_memory=False.\n",
      "  df = pd.read_csv(\n"
     ]
    },
    {
     "data": {
      "text/html": [
       "<div>\n",
       "<style scoped>\n",
       "    .dataframe tbody tr th:only-of-type {\n",
       "        vertical-align: middle;\n",
       "    }\n",
       "\n",
       "    .dataframe tbody tr th {\n",
       "        vertical-align: top;\n",
       "    }\n",
       "\n",
       "    .dataframe thead th {\n",
       "        text-align: right;\n",
       "    }\n",
       "</style>\n",
       "<table border=\"1\" class=\"dataframe\">\n",
       "  <thead>\n",
       "    <tr style=\"text-align: right;\">\n",
       "      <th></th>\n",
       "      <th>Unnamed: 0</th>\n",
       "      <th>id</th>\n",
       "      <th>provinces</th>\n",
       "      <th>community_i</th>\n",
       "      <th>type</th>\n",
       "      <th>a00</th>\n",
       "      <th>a01021</th>\n",
       "      <th>a01022</th>\n",
       "      <th>a01023</th>\n",
       "      <th>a01024</th>\n",
       "      <th>...</th>\n",
       "      <th>a62</th>\n",
       "      <th>a75a</th>\n",
       "      <th>a75b</th>\n",
       "      <th>isco08_a59d</th>\n",
       "      <th>isco08_a60d</th>\n",
       "      <th>isco08_sp</th>\n",
       "      <th>isco08_f</th>\n",
       "      <th>isco08_m</th>\n",
       "      <th>weight</th>\n",
       "      <th>weight_raking</th>\n",
       "    </tr>\n",
       "  </thead>\n",
       "  <tbody>\n",
       "    <tr>\n",
       "      <th>0</th>\n",
       "      <td>0</td>\n",
       "      <td>1.0</td>\n",
       "      <td>北京市</td>\n",
       "      <td>1101064</td>\n",
       "      <td>1.0</td>\n",
       "      <td>2018-08-02 16:08:00</td>\n",
       "      <td>1.0</td>\n",
       "      <td>2.0</td>\n",
       "      <td>NaN</td>\n",
       "      <td>NaN</td>\n",
       "      <td>...</td>\n",
       "      <td>9999998.0</td>\n",
       "      <td>40000.0</td>\n",
       "      <td>0.0</td>\n",
       "      <td>NaN</td>\n",
       "      <td>4110.0</td>\n",
       "      <td>NaN</td>\n",
       "      <td>8211.0</td>\n",
       "      <td>NaN</td>\n",
       "      <td>1.046890</td>\n",
       "      <td>0.364934</td>\n",
       "    </tr>\n",
       "    <tr>\n",
       "      <th>1</th>\n",
       "      <td>1</td>\n",
       "      <td>2.0</td>\n",
       "      <td>北京市</td>\n",
       "      <td>1101142</td>\n",
       "      <td>1.0</td>\n",
       "      <td>2018-07-28 16:03:00</td>\n",
       "      <td>1.0</td>\n",
       "      <td>NaN</td>\n",
       "      <td>NaN</td>\n",
       "      <td>NaN</td>\n",
       "      <td>...</td>\n",
       "      <td>100000.0</td>\n",
       "      <td>40000.0</td>\n",
       "      <td>0.0</td>\n",
       "      <td>NaN</td>\n",
       "      <td>2221.0</td>\n",
       "      <td>NaN</td>\n",
       "      <td>7221.0</td>\n",
       "      <td>6100.0</td>\n",
       "      <td>1.135081</td>\n",
       "      <td>0.389883</td>\n",
       "    </tr>\n",
       "    <tr>\n",
       "      <th>2</th>\n",
       "      <td>2</td>\n",
       "      <td>3.0</td>\n",
       "      <td>北京市</td>\n",
       "      <td>1101056</td>\n",
       "      <td>1.0</td>\n",
       "      <td>2018-08-26 15:02:00</td>\n",
       "      <td>NaN</td>\n",
       "      <td>NaN</td>\n",
       "      <td>NaN</td>\n",
       "      <td>NaN</td>\n",
       "      <td>...</td>\n",
       "      <td>500000.0</td>\n",
       "      <td>NaN</td>\n",
       "      <td>NaN</td>\n",
       "      <td>4211.0</td>\n",
       "      <td>NaN</td>\n",
       "      <td>NaN</td>\n",
       "      <td>4110.0</td>\n",
       "      <td>NaN</td>\n",
       "      <td>0.618875</td>\n",
       "      <td>0.457842</td>\n",
       "    </tr>\n",
       "    <tr>\n",
       "      <th>3</th>\n",
       "      <td>3</td>\n",
       "      <td>5.0</td>\n",
       "      <td>北京市</td>\n",
       "      <td>1101151</td>\n",
       "      <td>1.0</td>\n",
       "      <td>2018-08-23 15:11:00</td>\n",
       "      <td>1.0</td>\n",
       "      <td>NaN</td>\n",
       "      <td>NaN</td>\n",
       "      <td>NaN</td>\n",
       "      <td>...</td>\n",
       "      <td>300000.0</td>\n",
       "      <td>0.0</td>\n",
       "      <td>0.0</td>\n",
       "      <td>4312.0</td>\n",
       "      <td>NaN</td>\n",
       "      <td>2420.0</td>\n",
       "      <td>4311.0</td>\n",
       "      <td>6110.0</td>\n",
       "      <td>0.785167</td>\n",
       "      <td>0.348734</td>\n",
       "    </tr>\n",
       "    <tr>\n",
       "      <th>4</th>\n",
       "      <td>4</td>\n",
       "      <td>9.0</td>\n",
       "      <td>北京市</td>\n",
       "      <td>1101172</td>\n",
       "      <td>1.0</td>\n",
       "      <td>2018-08-17 11:05:00</td>\n",
       "      <td>2.0</td>\n",
       "      <td>1.0</td>\n",
       "      <td>2.0</td>\n",
       "      <td>NaN</td>\n",
       "      <td>...</td>\n",
       "      <td>90000.0</td>\n",
       "      <td>10000.0</td>\n",
       "      <td>0.0</td>\n",
       "      <td>5414.0</td>\n",
       "      <td>NaN</td>\n",
       "      <td>NaN</td>\n",
       "      <td>6100.0</td>\n",
       "      <td>6100.0</td>\n",
       "      <td>0.787849</td>\n",
       "      <td>0.381773</td>\n",
       "    </tr>\n",
       "  </tbody>\n",
       "</table>\n",
       "<p>5 rows × 1033 columns</p>\n",
       "</div>"
      ],
      "text/plain": [
       "   Unnamed: 0   id provinces  community_i  type                  a00  a01021  \\\n",
       "0           0  1.0       北京市      1101064   1.0  2018-08-02 16:08:00     1.0   \n",
       "1           1  2.0       北京市      1101142   1.0  2018-07-28 16:03:00     1.0   \n",
       "2           2  3.0       北京市      1101056   1.0  2018-08-26 15:02:00     NaN   \n",
       "3           3  5.0       北京市      1101151   1.0  2018-08-23 15:11:00     1.0   \n",
       "4           4  9.0       北京市      1101172   1.0  2018-08-17 11:05:00     2.0   \n",
       "\n",
       "   a01022  a01023  a01024  ...        a62     a75a  a75b  isco08_a59d  \\\n",
       "0     2.0     NaN     NaN  ...  9999998.0  40000.0   0.0          NaN   \n",
       "1     NaN     NaN     NaN  ...   100000.0  40000.0   0.0          NaN   \n",
       "2     NaN     NaN     NaN  ...   500000.0      NaN   NaN       4211.0   \n",
       "3     NaN     NaN     NaN  ...   300000.0      0.0   0.0       4312.0   \n",
       "4     1.0     2.0     NaN  ...    90000.0  10000.0   0.0       5414.0   \n",
       "\n",
       "   isco08_a60d  isco08_sp  isco08_f  isco08_m    weight  weight_raking  \n",
       "0       4110.0        NaN    8211.0       NaN  1.046890       0.364934  \n",
       "1       2221.0        NaN    7221.0    6100.0  1.135081       0.389883  \n",
       "2          NaN        NaN    4110.0       NaN  0.618875       0.457842  \n",
       "3          NaN     2420.0    4311.0    6110.0  0.785167       0.348734  \n",
       "4          NaN        NaN    6100.0    6100.0  0.787849       0.381773  \n",
       "\n",
       "[5 rows x 1033 columns]"
      ]
     },
     "execution_count": 19,
     "metadata": {},
     "output_type": "execute_result"
    }
   ],
   "source": [
    "df = pd.read_csv(\n",
    "    \"D:\\\\The-Trends-of-Social-Changes-in-China\\\\data\\\\cleaned_data\\\\cgss2018.csv\"\n",
    ")\n",
    "df.head()"
   ]
  },
  {
   "cell_type": "code",
   "execution_count": 20,
   "metadata": {},
   "outputs": [
    {
     "data": {
      "text/plain": [
       "Index(['Unnamed: 0', 'id', 'provinces', 'community_i', 'type', 'a00', 'a01021',\n",
       "       'a01022', 'a01023', 'a01024',\n",
       "       ...\n",
       "       'a62', 'a75a', 'a75b', 'isco08_a59d', 'isco08_a60d', 'isco08_sp',\n",
       "       'isco08_f', 'isco08_m', 'weight', 'weight_raking'],\n",
       "      dtype='object', length=1033)"
      ]
     },
     "execution_count": 20,
     "metadata": {},
     "output_type": "execute_result"
    }
   ],
   "source": [
    "df.columns"
   ]
  },
  {
   "cell_type": "code",
   "execution_count": 21,
   "metadata": {},
   "outputs": [
    {
     "data": {
      "text/plain": [
       "<bound method DataFrame.info of        Unnamed: 0       id provinces  community_i  type                  a00  \\\n",
       "0               0      1.0       北京市      1101064   1.0  2018-08-02 16:08:00   \n",
       "1               1      2.0       北京市      1101142   1.0  2018-07-28 16:03:00   \n",
       "2               2      3.0       北京市      1101056   1.0  2018-08-26 15:02:00   \n",
       "3               3      5.0       北京市      1101151   1.0  2018-08-23 15:11:00   \n",
       "4               4      9.0       北京市      1101172   1.0  2018-08-17 11:05:00   \n",
       "...           ...      ...       ...          ...   ...                  ...   \n",
       "12782       12782  15420.0   宁夏回族自治区      6403244   2.0  2018-08-08 09:29:00   \n",
       "12783       12783  15421.0   宁夏回族自治区      6403244   2.0  2018-08-11 13:50:00   \n",
       "12784       12784  15422.0   宁夏回族自治区      6403244   2.0  2018-08-10 15:09:00   \n",
       "12785       12785  15423.0   宁夏回族自治区      6403243   2.0  2018-08-12 17:19:00   \n",
       "12786       12786  15424.0   宁夏回族自治区      6403244   2.0  2018-08-10 12:05:00   \n",
       "\n",
       "       a01021  a01022  a01023  a01024  ...        a62      a75a      a75b  \\\n",
       "0         1.0     2.0     NaN     NaN  ...  9999998.0   40000.0       0.0   \n",
       "1         1.0     NaN     NaN     NaN  ...   100000.0   40000.0       0.0   \n",
       "2         NaN     NaN     NaN     NaN  ...   500000.0       NaN       NaN   \n",
       "3         1.0     NaN     NaN     NaN  ...   300000.0       0.0       0.0   \n",
       "4         2.0     1.0     2.0     NaN  ...    90000.0   10000.0       0.0   \n",
       "...       ...     ...     ...     ...  ...        ...       ...       ...   \n",
       "12782     1.0     1.0     2.0     1.0  ...    12000.0   12000.0   12000.0   \n",
       "12783     1.0     1.0     2.0     NaN  ...   100000.0  100000.0  100000.0   \n",
       "12784     1.0     1.0     2.0     NaN  ...    40000.0   40000.0   40000.0   \n",
       "12785     1.0     2.0     1.0     NaN  ...    20000.0   20000.0   20000.0   \n",
       "12786     1.0     1.0     2.0     2.0  ...    10000.0    6000.0    6000.0   \n",
       "\n",
       "       isco08_a59d  isco08_a60d  isco08_sp  isco08_f  isco08_m    weight  \\\n",
       "0              NaN       4110.0        NaN    8211.0       NaN  1.046890   \n",
       "1              NaN       2221.0        NaN    7221.0    6100.0  1.135081   \n",
       "2           4211.0          NaN        NaN    4110.0       NaN  0.618875   \n",
       "3           4312.0          NaN     2420.0    4311.0    6110.0  0.785167   \n",
       "4           5414.0          NaN        NaN    6100.0    6100.0  0.787849   \n",
       "...            ...          ...        ...       ...       ...       ...   \n",
       "12782          NaN          NaN     9313.0    6111.0    6111.0  3.132411   \n",
       "12783          NaN          NaN     7215.0    2341.0    6111.0  2.088274   \n",
       "12784          NaN          NaN     7215.0    6111.0    6111.0  2.088274   \n",
       "12785          NaN          NaN        NaN    6100.0    6100.0  1.046890   \n",
       "12786          NaN       9212.0        NaN    9332.0    6111.0  1.308612   \n",
       "\n",
       "       weight_raking  \n",
       "0           0.364934  \n",
       "1           0.389883  \n",
       "2           0.457842  \n",
       "3           0.348734  \n",
       "4           0.381773  \n",
       "...              ...  \n",
       "12782       5.943931  \n",
       "12783       7.032731  \n",
       "12784       2.888155  \n",
       "12785       0.423226  \n",
       "12786       0.625865  \n",
       "\n",
       "[12787 rows x 1033 columns]>"
      ]
     },
     "execution_count": 21,
     "metadata": {},
     "output_type": "execute_result"
    }
   ],
   "source": [
    "df.info"
   ]
  }
 ],
 "metadata": {
  "kernelspec": {
   "display_name": "base",
   "language": "python",
   "name": "python3"
  },
  "language_info": {
   "codemirror_mode": {
    "name": "ipython",
    "version": 3
   },
   "file_extension": ".py",
   "mimetype": "text/x-python",
   "name": "python",
   "nbconvert_exporter": "python",
   "pygments_lexer": "ipython3",
   "version": "3.11.4"
  }
 },
 "nbformat": 4,
 "nbformat_minor": 2
}
